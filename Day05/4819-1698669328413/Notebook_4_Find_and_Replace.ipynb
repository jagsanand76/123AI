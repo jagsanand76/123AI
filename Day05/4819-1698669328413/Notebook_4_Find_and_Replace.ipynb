{
  "nbformat": 4,
  "nbformat_minor": 0,
  "metadata": {
    "colab": {
      "provenance": []
    },
    "kernelspec": {
      "name": "python3",
      "display_name": "Python 3"
    },
    "language_info": {
      "name": "python"
    }
  },
  "cells": [
    {
      "cell_type": "code",
      "execution_count": 1,
      "metadata": {
        "colab": {
          "base_uri": "https://localhost:8080/"
        },
        "id": "DR0vp-EJjBxc",
        "outputId": "14043206-24ef-4a3a-84af-97697d25faa9"
      },
      "outputs": [
        {
          "output_type": "execute_result",
          "data": {
            "text/plain": [
              "184"
            ]
          },
          "metadata": {},
          "execution_count": 1
        }
      ],
      "source": [
        "\"\"\"\n",
        "Question: Given a paragraph, find how many 'a' are there in it?\n",
        "\"\"\"\n",
        "\n",
        "para = \"\"\"input() - Asks the user for an input\n",
        "range(start, end+1)\n",
        "range(num of times I want the loop to run)\n",
        "Q: Count the number of times, 'google.com' is visited\n",
        "Assumption: User tries 5 URLs\n",
        "\"\"\"\n",
        "len(para)"
      ]
    },
    {
      "cell_type": "code",
      "source": [
        "\"\"\"\n",
        "len(): Length of string -> No. of characters\n",
        "\"\"\"\n",
        "\n",
        "a = \"hi\"\n",
        "b = \"heyy\"\n",
        "print(len(a), len(b))"
      ],
      "metadata": {
        "colab": {
          "base_uri": "https://localhost:8080/"
        },
        "id": "Of_znz0ijIIC",
        "outputId": "547f42ef-5ef1-4fef-a107-2d521cb9fa4b"
      },
      "execution_count": 2,
      "outputs": [
        {
          "output_type": "stream",
          "name": "stdout",
          "text": [
            "2 4\n"
          ]
        }
      ]
    },
    {
      "cell_type": "code",
      "source": [
        "\"\"\"\n",
        "**STRING OPERATIONS**\n",
        "\n",
        "1. Primer on string:\n",
        "Access a particular character: para[char_num]\n",
        "Index is 'char_num'\n",
        "\n",
        "0-index - first character 'index' is 0\n",
        "\"\"\"\n",
        "\n",
        "print(b[2])\n",
        "\n",
        "\n",
        "\"\"\"\n",
        "2. CONCAT - Attach/Join\n",
        "\"Hello\" + \"World\"\n",
        "\"\"\"\n",
        "\n",
        "print(\"Hello \" + \"World!\")\n"
      ],
      "metadata": {
        "colab": {
          "base_uri": "https://localhost:8080/"
        },
        "id": "WEh5NAIxjJqI",
        "outputId": "480d0ef4-2d38-4a99-f3c7-0c0709c2ba0d"
      },
      "execution_count": 3,
      "outputs": [
        {
          "output_type": "stream",
          "name": "stdout",
          "text": [
            "y\n",
            "Hello World!\n"
          ]
        }
      ]
    },
    {
      "cell_type": "code",
      "source": [
        "\"\"\"\n",
        "Find Algo:\n",
        "\n",
        "1. Go through every character in the para\n",
        "2. Check if that char is an 'a'\n",
        "3. End when the para is over\n",
        "\n",
        "=> Number of iterations: No. of checks for 'a' = len(para)\n",
        "\"\"\"\n",
        "\n",
        "len_p = len(para)\n",
        "count = 0\n",
        "\n",
        "for var in range(len_p):\n",
        "  cur_char = para[var]\n",
        "  if(cur_char == 'a'):\n",
        "    count = count + 1\n",
        "\n",
        "print(count)\n"
      ],
      "metadata": {
        "colab": {
          "base_uri": "https://localhost:8080/"
        },
        "id": "FLM6ja7FjLJf",
        "outputId": "1fc42b7c-9dac-4ff7-e0f8-8f145bb1deeb"
      },
      "execution_count": 4,
      "outputs": [
        {
          "output_type": "stream",
          "name": "stdout",
          "text": [
            "5\n"
          ]
        }
      ]
    },
    {
      "cell_type": "code",
      "source": [
        "\"\"\"\n",
        "Find and Replace 'a' with '$'\n",
        "\n",
        "If 'a' is found: attach '$'\n",
        "else: attach original string\n",
        "\"\"\"\n",
        "\n",
        "len_p = len(para)\n",
        "count = 0\n",
        "new_string = \"\"\n",
        "\n",
        "for var in range(len_p):\n",
        "  cur_char = para[var]\n",
        "  if(cur_char == 'a'):\n",
        "    new_string = new_string + '$'\n",
        "    count = count + 1\n",
        "  else:\n",
        "    new_string = new_string + cur_char\n",
        "\n",
        "print(count)\n",
        "\n",
        "print(new_string)"
      ],
      "metadata": {
        "colab": {
          "base_uri": "https://localhost:8080/"
        },
        "id": "NpVfiyXRjOUn",
        "outputId": "8890d931-0a2c-464a-83bd-ad28d516174f"
      },
      "execution_count": 5,
      "outputs": [
        {
          "output_type": "stream",
          "name": "stdout",
          "text": [
            "5\n",
            "input() - Asks the user for $n input\n",
            "r$nge(st$rt, end+1)\n",
            "r$nge(num of times I w$nt the loop to run)\n",
            "Q: Count the number of times, 'google.com' is visited\n",
            "Assumption: User tries 5 URLs\n",
            "\n"
          ]
        }
      ]
    },
    {
      "cell_type": "code",
      "source": [],
      "metadata": {
        "id": "v8OxQVJYkBx_"
      },
      "execution_count": 5,
      "outputs": []
    }
  ]
}